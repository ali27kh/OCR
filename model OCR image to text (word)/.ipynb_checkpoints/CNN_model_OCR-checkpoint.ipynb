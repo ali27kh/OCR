{
 "cells": [
  {
   "cell_type": "code",
   "execution_count": 26,
   "id": "991c45e8",
   "metadata": {},
   "outputs": [],
   "source": [
    "import os\n",
    "import cv2\n",
    "import numpy as np\n",
    "import matplotlib.pyplot as plt\n",
    "import tensorflow as tf\n",
    "from sklearn.preprocessing import LabelEncoder\n",
    "from sklearn.utils import shuffle\n",
    "from keras.models import Sequential\n",
    "from keras.layers import Conv2D, Flatten, MaxPooling2D, Dense\n",
    "from sklearn.metrics import confusion_matrix\n",
    "import seaborn as sns"
   ]
  },
  {
   "cell_type": "code",
   "execution_count": 3,
   "id": "43051cdc",
   "metadata": {},
   "outputs": [],
   "source": [
    "images = []\n",
    "labels = []\n",
    "path = 'data'\n",
    "dir_list = os.listdir(path)\n",
    "for i in dir_list:\n",
    "    dir = os.path.join(path, i)\n",
    "    file_list = os.listdir(dir)\n",
    "    for j in file_list:\n",
    "        files = os.path.join(dir, j)\n",
    "        img = cv2.imread(files)\n",
    "        img = cv2.resize(img, (64,64))\n",
    "        img = np.array(img, dtype=np.float32)\n",
    "        img = img/255\n",
    "        images.append(img)\n",
    "        labels.append(i)"
   ]
  },
  {
   "cell_type": "code",
   "execution_count": 4,
   "id": "b7ae1ad4",
   "metadata": {},
   "outputs": [
    {
     "data": {
      "text/plain": [
       "20628"
      ]
     },
     "execution_count": 4,
     "metadata": {},
     "output_type": "execute_result"
    }
   ],
   "source": [
    "X = np.array(images)\n",
    "len(X)"
   ]
  },
  {
   "cell_type": "code",
   "execution_count": 5,
   "id": "06ca5d04",
   "metadata": {},
   "outputs": [
    {
     "data": {
      "text/plain": [
       "20628"
      ]
     },
     "execution_count": 5,
     "metadata": {},
     "output_type": "execute_result"
    }
   ],
   "source": [
    "y = np.array(labels)\n",
    "len(y)"
   ]
  },
  {
   "cell_type": "code",
   "execution_count": 6,
   "id": "50cf701b",
   "metadata": {},
   "outputs": [],
   "source": [
    "#Encode_data\n",
    "le = LabelEncoder()\n",
    "y = le.fit_transform(y)"
   ]
  },
  {
   "cell_type": "code",
   "execution_count": 7,
   "id": "ceb7d599",
   "metadata": {},
   "outputs": [],
   "source": [
    "X_sh, y_sh = shuffle(X, y, random_state=42)"
   ]
  },
  {
   "cell_type": "markdown",
   "id": "801b30a9",
   "metadata": {},
   "source": [
    "## Model_train"
   ]
  },
  {
   "cell_type": "code",
   "execution_count": 8,
   "id": "22b75e3c",
   "metadata": {},
   "outputs": [],
   "source": [
    "model = Sequential()"
   ]
  },
  {
   "cell_type": "code",
   "execution_count": 9,
   "id": "67f3c6b9",
   "metadata": {},
   "outputs": [],
   "source": [
    "model.add(Conv2D(filters=16, kernel_size=(3,3), activation='relu', input_shape=(64,64,3)))\n",
    "model.add(MaxPooling2D())\n",
    "model.add(Conv2D(filters=32, kernel_size=(3,3),  activation='relu'))\n",
    "model.add(MaxPooling2D())\n",
    "model.add(Conv2D(filters=64, kernel_size=(3,3),  activation='relu'))\n",
    "model.add(MaxPooling2D())\n",
    "model.add(Conv2D(filters=128, kernel_size=(3,3), activation='relu'))\n",
    "model.add(Flatten())\n",
    "model.add(Dense(units=128, activation='relu'))\n",
    "model.add(Dense(units=64, activation='relu'))\n",
    "model.add(Dense(units=36, activation='softmax'))"
   ]
  },
  {
   "cell_type": "code",
   "execution_count": 10,
   "id": "ea0f1137",
   "metadata": {},
   "outputs": [],
   "source": [
    "model.compile(optimizer='adam', loss='sparse_categorical_crossentropy', metrics = ['accuracy'])"
   ]
  },
  {
   "cell_type": "code",
   "execution_count": 11,
   "id": "4ba2ba3b",
   "metadata": {
    "scrolled": true
   },
   "outputs": [
    {
     "name": "stdout",
     "output_type": "stream",
     "text": [
      "Epoch 1/10\n",
      "661/661 [==============================] - 26s 38ms/step - loss: 0.7096 - accuracy: 0.8067 - val_loss: 0.2688 - val_accuracy: 0.9215\n",
      "Epoch 2/10\n",
      "661/661 [==============================] - 26s 39ms/step - loss: 0.1889 - accuracy: 0.9413 - val_loss: 0.2034 - val_accuracy: 0.9421\n",
      "Epoch 3/10\n",
      "661/661 [==============================] - 25s 38ms/step - loss: 0.1194 - accuracy: 0.9590 - val_loss: 0.1832 - val_accuracy: 0.9452\n",
      "Epoch 4/10\n",
      "661/661 [==============================] - 26s 40ms/step - loss: 0.1018 - accuracy: 0.9630 - val_loss: 0.1797 - val_accuracy: 0.9460\n",
      "Epoch 5/10\n",
      "661/661 [==============================] - 26s 40ms/step - loss: 0.0839 - accuracy: 0.9689 - val_loss: 0.1939 - val_accuracy: 0.9399\n",
      "Epoch 6/10\n",
      "661/661 [==============================] - 26s 39ms/step - loss: 0.0721 - accuracy: 0.9730 - val_loss: 0.2089 - val_accuracy: 0.9476\n",
      "Epoch 7/10\n",
      "661/661 [==============================] - 26s 40ms/step - loss: 0.0689 - accuracy: 0.9737 - val_loss: 0.1724 - val_accuracy: 0.9476\n",
      "Epoch 8/10\n",
      "661/661 [==============================] - 26s 39ms/step - loss: 0.0459 - accuracy: 0.9810 - val_loss: 0.2043 - val_accuracy: 0.9484\n",
      "Epoch 9/10\n",
      "661/661 [==============================] - 26s 40ms/step - loss: 0.0518 - accuracy: 0.9794 - val_loss: 0.1931 - val_accuracy: 0.9540\n",
      "Epoch 10/10\n",
      "661/661 [==============================] - 27s 40ms/step - loss: 0.0613 - accuracy: 0.9781 - val_loss: 0.1618 - val_accuracy: 0.9559\n"
     ]
    }
   ],
   "source": [
    "history = model.fit(X_sh, y_sh ,validation_split=0.2, batch_size=25, epochs=10)"
   ]
  },
  {
   "cell_type": "markdown",
   "id": "422e8eac",
   "metadata": {},
   "source": [
    "## Model_validation:"
   ]
  },
  {
   "cell_type": "code",
   "execution_count": 12,
   "id": "ee6ebc7e",
   "metadata": {},
   "outputs": [
    {
     "data": {
      "text/plain": [
       "<matplotlib.legend.Legend at 0x29d13491940>"
      ]
     },
     "execution_count": 12,
     "metadata": {},
     "output_type": "execute_result"
    },
    {
     "data": {
      "image/png": "[encoded data removed]",
      "text/plain": [
       "<Figure size 432x288 with 1 Axes>"
      ]
     },
     "metadata": {
      "needs_background": "light"
     },
     "output_type": "display_data"
    }
   ],
   "source": [
    "plt.plot(history.history['loss'])\n",
    "plt.plot(history.history['val_loss'])\n",
    "plt.legend(['loss', 'val_loss'])"
   ]
  },
  {
   "cell_type": "code",
   "execution_count": 13,
   "id": "04b082dc",
   "metadata": {},
   "outputs": [],
   "source": [
    "test_images = []\n",
    "test_labels = []\n",
    "path = 'testing_data'\n",
    "dir_list = os.listdir(path)\n",
    "for i in dir_list:\n",
    "    dir = os.path.join(path, i)\n",
    "    file_list = os.listdir(dir)\n",
    "    for j in file_list:\n",
    "        files = os.path.join(dir, j)\n",
    "        img = cv2.imread(files)\n",
    "        img = cv2.resize(img, (64,64))\n",
    "        img = np.array(img, dtype=np.float32)\n",
    "        img = img/255\n",
    "        test_images.append(img)\n",
    "        test_labels.append(i)"
   ]
  },
  {
   "cell_type": "code",
   "execution_count": 14,
   "id": "89aafad0",
   "metadata": {},
   "outputs": [],
   "source": [
    "X_test = np.array(test_images)\n",
    "y_test = np.array(test_labels)"
   ]
  },
  {
   "cell_type": "code",
   "execution_count": 15,
   "id": "c2c79007",
   "metadata": {},
   "outputs": [],
   "source": [
    "le = LabelEncoder()\n",
    "y_test = le.fit_transform(y_test)"
   ]
  },
  {
   "cell_type": "code",
   "execution_count": 16,
   "id": "d9ec2152",
   "metadata": {},
   "outputs": [
    {
     "name": "stdout",
     "output_type": "stream",
     "text": [
      "32/32 [==============================] - 0s 11ms/step - loss: 0.0336 - accuracy: 0.9851\n"
     ]
    }
   ],
   "source": [
    "test_loss, test_accuracy = model.evaluate(X_test, y_test)"
   ]
  },
  {
   "cell_type": "code",
   "execution_count": 17,
   "id": "83cf4486",
   "metadata": {},
   "outputs": [
    {
     "name": "stdout",
     "output_type": "stream",
     "text": [
      "Loss: 0.03360731154680252\n",
      "Accuracy: 0.9851190447807312\n"
     ]
    }
   ],
   "source": [
    "print(\"Loss:\", test_loss)\n",
    "print(\"Accuracy:\", test_accuracy)"
   ]
  },
  {
   "cell_type": "code",
   "execution_count": 28,
   "id": "7628ad16",
   "metadata": {},
   "outputs": [
    {
     "name": "stdout",
     "output_type": "stream",
     "text": [
      "32/32 [==============================] - 0s 11ms/step\n"
     ]
    },
    {
     "data": {
      "image/png": "[encoded data removed]",
      "text/plain": [
       "<Figure size 864x576 with 2 Axes>"
      ]
     },
     "metadata": {
      "needs_background": "light"
     },
     "output_type": "display_data"
    }
   ],
   "source": [
    "# Confusion Matrix\n",
    "y_pred = model.predict(X_test)\n",
    "y_pred_classes = np.argmax(y_pred, axis=1)\n",
    "conf_matrix = confusion_matrix(y_test, y_pred_classes)\n",
    "\n",
    "plt.figure(figsize=(12, 8))\n",
    "sns.heatmap(conf_matrix, annot=True, fmt='d', cmap='Blues', xticklabels=class_names, yticklabels=class_names)\n",
    "plt.xlabel('Predicted Labels')\n",
    "plt.ylabel('True Labels')\n",
    "plt.title('Confusion Matrix')\n",
    "plt.show()"
   ]
  },
  {
   "cell_type": "code",
   "execution_count": 19,
   "id": "c061474e",
   "metadata": {},
   "outputs": [],
   "source": [
    "class_names = le.classes_"
   ]
  },
  {
   "cell_type": "code",
   "execution_count": 20,
   "id": "8f2dd85f",
   "metadata": {},
   "outputs": [],
   "source": [
    "np.save('class_names.npy', class_names)\n",
    "model.save(\"OCR_model.keras\")"
   ]
  }
 ],
 "metadata": {
  "kernelspec": {
   "display_name": "Python 3 (ipykernel)",
   "language": "python",
   "name": "python3"
  },
  "language_info": {
   "codemirror_mode": {
    "name": "ipython",
    "version": 3
   },
   "file_extension": ".py",
   "mimetype": "text/x-python",
   "name": "python",
   "nbconvert_exporter": "python",
   "pygments_lexer": "ipython3",
   "version": "3.8.8"
  }
 },
 "nbformat": 4,
 "nbformat_minor": 5
}

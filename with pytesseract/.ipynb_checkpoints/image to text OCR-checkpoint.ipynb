{
 "cells": [
  {
   "cell_type": "markdown",
   "id": "6fc140a6",
   "metadata": {},
   "source": [
    "# Importation des bibliothéques"
   ]
  },
  {
   "cell_type": "code",
   "execution_count": 1,
   "id": "3c3364a8",
   "metadata": {},
   "outputs": [],
   "source": [
    "from PIL import Image\n",
    "from pytesseract import pytesseract\n",
    "import os\n",
    "import pandas as pd"
   ]
  },
  {
   "cell_type": "code",
   "execution_count": 2,
   "id": "e0fb04ab",
   "metadata": {},
   "outputs": [],
   "source": [
    "path_to_tesseract = r\"C:\\Program Files\\Tesseract-OCR\\tesseract.exe\"\n",
    "pytesseract.tesseract_cmd = path_to_tesseract"
   ]
  },
  {
   "cell_type": "code",
   "execution_count": 3,
   "id": "beaea09c",
   "metadata": {},
   "outputs": [
    {
     "name": "stdout",
     "output_type": "stream",
     "text": [
      "['afr', 'amh', 'ara', 'asm', 'aze', 'aze_cyrl', 'bel', 'ben', 'bod', 'bos', 'bre', 'bul', 'cat', 'ceb', 'ces', 'chi_sim', 'chi_sim_vert', 'chi_tra', 'chi_tra_vert', 'chr', 'cos', 'cym', 'dan', 'deu', 'div', 'dzo', 'ell', 'eng', 'enm', 'epo', 'equ', 'est', 'eus', 'fao', 'fas', 'fil', 'fin', 'fra', 'frk', 'frm', 'fry', 'gla', 'gle', 'glg', 'grc', 'guj', 'hat', 'heb', 'hin', 'hrv', 'hun', 'hye', 'iku', 'ind', 'isl', 'ita', 'ita_old', 'jav', 'jpn', 'jpn_vert', 'kan', 'kat', 'kat_old', 'kaz', 'khm', 'kir', 'kmr', 'kor', 'lao', 'lat', 'lav', 'lit', 'ltz', 'mal', 'mar', 'mkd', 'mlt', 'mon', 'mri', 'msa', 'mya', 'nep', 'nld', 'nor', 'oci', 'ori', 'osd', 'pan', 'pol', 'por', 'pus', 'que', 'ron', 'rus', 'san', 'sin', 'slk', 'slv', 'snd', 'spa', 'spa_old', 'sqi', 'srp', 'srp_latn', 'sun', 'swa', 'swe', 'syr', 'tam', 'tat', 'tel', 'tgk', 'tha', 'tir', 'ton', 'tur', 'uig', 'ukr', 'urd', 'uzb', 'uzb_cyrl', 'vie', 'yid', 'yor']\n"
     ]
    }
   ],
   "source": [
    "print(pytesseract.get_languages(config=''))"
   ]
  },
  {
   "cell_type": "markdown",
   "id": "c896c63f",
   "metadata": {},
   "source": [
    "## Test image arabic"
   ]
  },
  {
   "cell_type": "code",
   "execution_count": 4,
   "id": "84f089ec",
   "metadata": {},
   "outputs": [],
   "source": [
    "image_path = r\"ar.png\"\n",
    "\n",
    "img = Image.open(image_path)"
   ]
  },
  {
   "cell_type": "code",
   "execution_count": 5,
   "id": "0fb1ab5c",
   "metadata": {},
   "outputs": [],
   "source": [
    "text=pytesseract.image_to_string(img,lang='ara')"
   ]
  },
  {
   "cell_type": "code",
   "execution_count": 6,
   "id": "e12a0780",
   "metadata": {},
   "outputs": [
    {
     "name": "stdout",
     "output_type": "stream",
     "text": [
      "فريدةل0ن ه؟\n",
      "مقدمةه:\n",
      "يسرنا أن نقدم لكم نبذة بسيطة عن مؤسسة منتجات\n",
      "فريدة من المدينة المنورة والتي تم تأسيسها بناء على\n",
      "خبرات سابقة وفريدة في منتجات التمور بجميع أنواعها.\n",
      "ونود التأكيد بانه من خلال خبرتنا في مجال التمور فنحن\n",
      "دائما على أتم الاستعداد لتلبية وتوفير ماهو مطلوب\n",
      "بجودة عالية من مزارعنا الخاصة والتي يتم تخزينها في\n",
      "ثلاجاتنا مع المحافظة علن السعر المناسب وفي أقل\n",
      "مدة زمنية ممكنة على أمل أن نكون دائما عند حسن\n",
      "أ/ أحمد عبدالهادي البحري\n",
      "\n"
     ]
    }
   ],
   "source": [
    "print(text)"
   ]
  },
  {
   "cell_type": "markdown",
   "id": "88ae7fcb",
   "metadata": {},
   "source": [
    "#### Image arabe to pdf"
   ]
  },
  {
   "cell_type": "code",
   "execution_count": 7,
   "id": "c0ee2b10",
   "metadata": {},
   "outputs": [],
   "source": [
    "text_pdf=pytesseract.image_to_pdf_or_hocr(img, lang='ara')\n",
    "with open('test_arabe.pdf', 'w+b') as f:\n",
    "    f.write(text_pdf)"
   ]
  },
  {
   "cell_type": "markdown",
   "id": "32b18470",
   "metadata": {},
   "source": [
    "## Test image french"
   ]
  },
  {
   "cell_type": "code",
   "execution_count": 8,
   "id": "e3b39838",
   "metadata": {},
   "outputs": [],
   "source": [
    "image_path1 = r\"image fr.png\"\n",
    "\n",
    "img1 = Image.open(image_path1)"
   ]
  },
  {
   "cell_type": "code",
   "execution_count": 9,
   "id": "856fe07a",
   "metadata": {},
   "outputs": [],
   "source": [
    "text1=pytesseract.image_to_string(img1)"
   ]
  },
  {
   "cell_type": "code",
   "execution_count": 10,
   "id": "bd69a866",
   "metadata": {
    "scrolled": true
   },
   "outputs": [
    {
     "name": "stdout",
     "output_type": "stream",
     "text": [
      "carton qui contenait le divan. Is 'ont ouvert, avec elle tous\n",
      "les trois. Elle avait les larmes aux yeux. Le divan, rouge\n",
      "bordeaux, ait apparu au miliew du papier d’emballage.\n",
      "Petite fille, elle sasseyait sur ce divan, entre son pére, et le\n",
      "bel homme. Pendant qu'ls discutaient, elle suivait d\n",
      "regard les assauts de la lumigre a travers les rideaux\n",
      "diaphanes de la véranda, avant d'aller vaquer i ses\n",
      "‘occupations enfantines.\n",
      "\n",
      "Assise sur le divan, elle restait bien droite, en suivant & la\n",
      "lettre les instructions de sa tante paternelle qui tui\n",
      "apprenait a bien se tenir en société.\n",
      "\n",
      "‘Sa main efMleure le velours, qui bruisse sous son annulaire\n",
      "comme une feuille qui se froise. Elle tire le coussin calé\n",
      "dans Tangle du divan, puis elle apergoit un petit morceau\n",
      "de papier bleu ciel. Elle le dépliedélicatement, e, le eur\n",
      "serré, se rappelle que le beau monsieur le lui avait glissé\n",
      "dans la main, avec un bonbon. Le bonbon était pour ell, le\n",
      "papier pour sa tante, mais le bonbon, et la beauté du lie\n",
      "lui avaient fait oublier de transmettre le message.\n",
      "\n",
      "Sacré hasard, aux si nombreux tours.\n",
      "\n"
     ]
    }
   ],
   "source": [
    "print(text1)"
   ]
  },
  {
   "cell_type": "markdown",
   "id": "edf0009a",
   "metadata": {},
   "source": [
    "# Test italian"
   ]
  },
  {
   "cell_type": "code",
   "execution_count": 11,
   "id": "bbc0cab7",
   "metadata": {},
   "outputs": [],
   "source": [
    "image_path = r\"italien1.jpg\"\n",
    "\n",
    "img = Image.open(image_path)"
   ]
  },
  {
   "cell_type": "code",
   "execution_count": 12,
   "id": "cb9e2990",
   "metadata": {},
   "outputs": [],
   "source": [
    "text=pytesseract.image_to_string(img,lang='ita')"
   ]
  },
  {
   "cell_type": "code",
   "execution_count": 13,
   "id": "c6eecc08",
   "metadata": {},
   "outputs": [
    {
     "name": "stdout",
     "output_type": "stream",
     "text": [
      "MODO DI CUOCERE LI POMI D’oRO\n",
      "\n",
      "Questi frutti sono quasi simili alle mele, si colti. |\n",
      "vano nei giardini e si cuocuono nel modo seguente;\n",
      "piglia li detti pomi, tagliali in pezzetti mettili in te\n",
      "game con olio, pepe, sale, aglio trito e mentucci\n",
      "di campagna. Li farai soffriggere col rivoltarli sp\n",
      "e se ci vorrai aggiungere un poco di molignane\n",
      "nere e cucuzze lunche ci faranno bene.\n",
      "\n"
     ]
    }
   ],
   "source": [
    "print(text)"
   ]
  },
  {
   "cell_type": "code",
   "execution_count": 14,
   "id": "339e84e4",
   "metadata": {},
   "outputs": [
    {
     "name": "stdout",
     "output_type": "stream",
     "text": [
      "MODO DI CUOCERE LI POMI D’oRO\n",
      "\n",
      "Questi frutti sono quasi simili alle mele, si colti\n",
      "\n",
      "|\n",
      "vano nei giardini e si cuocuono nel modo seguente;\n",
      "piglia li detti pomi, tagliali in pezzetti mettili in te\n",
      "game con olio, pepe, sale, aglio trito e mentucci\n",
      "di campagna\n",
      "\n",
      "Li farai soffriggere col rivoltarli sp\n",
      "e se ci vorrai aggiungere un poco di molignane\n",
      "nere e cucuzze lunche ci faranno bene.\n",
      "\n"
     ]
    }
   ],
   "source": [
    "print(\"\\n\\n\".join(text.split('. ')))"
   ]
  },
  {
   "cell_type": "markdown",
   "id": "612d1cf9",
   "metadata": {},
   "source": [
    "# Test spanish"
   ]
  },
  {
   "cell_type": "code",
   "execution_count": 15,
   "id": "9aa9fadd",
   "metadata": {},
   "outputs": [],
   "source": [
    "image_path = r\"spa.jpg\"\n",
    "\n",
    "img = Image.open(image_path)"
   ]
  },
  {
   "cell_type": "code",
   "execution_count": 16,
   "id": "0e07fbee",
   "metadata": {},
   "outputs": [],
   "source": [
    "text=pytesseract.image_to_string(img,lang='spa')"
   ]
  },
  {
   "cell_type": "code",
   "execution_count": 17,
   "id": "b9a9661b",
   "metadata": {},
   "outputs": [
    {
     "name": "stdout",
     "output_type": "stream",
     "text": [
      "| Juliana\n",
      "Yo soy la mayor. Me llamo Juliana. Nací un día\n",
      "nueve del mes nueve, de un año que termina en\n",
      "nueye, [...] Soy el vivo retrato de mi papá, dice la\n",
      "abuela. Él hombre y yo mujer, es lo único. De resto,\n",
      "s la misma mirada, la misma cara, la misma boca\n",
      "grande, con los dientes enormes, arriba. (Sí, los dien-\n",
      "tes de conejo? son mi punto débil). De mamá, en\n",
      "cambio, tengo muy poco. Tal vez el cuerpo, que no\n",
      "está mal (o bueno, no estaba, antes de engordarme?.\n",
      "10 Ahora parezco un tanque, según mi hermano, que\n",
      "va siempre directo al punto de dolor).\n",
      "\n"
     ]
    }
   ],
   "source": [
    "print(text)"
   ]
  },
  {
   "cell_type": "code",
   "execution_count": 18,
   "id": "c935d7da",
   "metadata": {
    "scrolled": true
   },
   "outputs": [
    {
     "name": "stdout",
     "output_type": "stream",
     "text": [
      "| Juliana\n",
      "Yo soy la mayor\n",
      "Me llamo Juliana\n",
      "Nací un día\n",
      "nueve del mes nueve, de un año que termina en\n",
      "nueye, [...] Soy el vivo retrato de mi papá, dice la\n",
      "abuela\n",
      "Él hombre y yo mujer, es lo único\n",
      "De resto,\n",
      "s la misma mirada, la misma cara, la misma boca\n",
      "grande, con los dientes enormes, arriba\n",
      "(Sí, los dien-\n",
      "tes de conejo? son mi punto débil)\n",
      "De mamá, en\n",
      "cambio, tengo muy poco\n",
      "Tal vez el cuerpo, que no\n",
      "está mal (o bueno, no estaba, antes de engordarme?.\n",
      "10 Ahora parezco un tanque, según mi hermano, que\n",
      "va siempre directo al punto de dolor).\n",
      "\n"
     ]
    }
   ],
   "source": [
    "print(\"\\n\".join(text.split('. ')))"
   ]
  },
  {
   "cell_type": "markdown",
   "id": "ba01c313",
   "metadata": {},
   "source": [
    "# Test deutsh"
   ]
  },
  {
   "cell_type": "code",
   "execution_count": 19,
   "id": "6533216f",
   "metadata": {},
   "outputs": [],
   "source": [
    "image_path1 = r\"deu.png\"\n",
    "\n",
    "img1 = Image.open(image_path1)"
   ]
  },
  {
   "cell_type": "code",
   "execution_count": 20,
   "id": "388c39c4",
   "metadata": {},
   "outputs": [],
   "source": [
    "text=pytesseract.image_to_string(img1,lang='deu')"
   ]
  },
  {
   "cell_type": "code",
   "execution_count": 21,
   "id": "53a34a46",
   "metadata": {},
   "outputs": [
    {
     "name": "stdout",
     "output_type": "stream",
     "text": [
      "In die nacht wist ik eigenlijk dat ik sterven moest, ik wachtte op\n",
      "de politie, ik was bereid, bereid zoals de soldaten op het slagveld.\n",
      "grang opolferen voor het vaderland, maar nu, nu ik\n",
      "weor gerod ben, nu is mijn eerste wens na de oorlog, maak me\n",
      "Nederlander! Ik houd van de Nederlanders, ik houd van ons\n",
      "land, ik houd van de taal, en wil hier werken\n",
      "En al zou ik aan de\n",
      "Koningin zelf mosten schrijven, ik zal niet wijken voor\n",
      "\n",
      "doel bereikt is.\n",
      "\n",
      "Ik wou\n",
      "\n",
      "\n"
     ]
    }
   ],
   "source": [
    "print(\"\\n\".join(text.split('. ')))"
   ]
  },
  {
   "cell_type": "markdown",
   "id": "e24c817f",
   "metadata": {},
   "source": [
    "# Test russian"
   ]
  },
  {
   "cell_type": "code",
   "execution_count": 22,
   "id": "d30cff1e",
   "metadata": {},
   "outputs": [],
   "source": [
    "image_path1 = r\"russ.jpg\"\n",
    "\n",
    "img1 = Image.open(image_path1)"
   ]
  },
  {
   "cell_type": "code",
   "execution_count": 23,
   "id": "11735ae6",
   "metadata": {},
   "outputs": [],
   "source": [
    "text=pytesseract.image_to_string(img1,lang='rus')"
   ]
  },
  {
   "cell_type": "code",
   "execution_count": 24,
   "id": "51be47c6",
   "metadata": {},
   "outputs": [
    {
     "name": "stdout",
     "output_type": "stream",
     "text": [
      "Описание\n",
      "\n",
      "\"Парня, который мне нравится, интересует\n",
      "только 20...\"\n",
      "\n",
      "Кокоа - девушка, романтики в которой нет ни\n",
      "на йоту, влюблена в самого популярного в\n",
      "классе парня - Соши. Но Соши оказывается не\n",
      "только писателем рассказов, добрым, милым\n",
      "человеком, но и... заядлым отаку?!\n",
      "\n",
      "\n"
     ]
    }
   ],
   "source": [
    "print(text)"
   ]
  }
 ],
 "metadata": {
  "kernelspec": {
   "display_name": "Python 3 (ipykernel)",
   "language": "python",
   "name": "python3"
  },
  "language_info": {
   "codemirror_mode": {
    "name": "ipython",
    "version": 3
   },
   "file_extension": ".py",
   "mimetype": "text/x-python",
   "name": "python",
   "nbconvert_exporter": "python",
   "pygments_lexer": "ipython3",
   "version": "3.8.8"
  }
 },
 "nbformat": 4,
 "nbformat_minor": 5
}
